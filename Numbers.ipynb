{
 "cells": [
  {
   "cell_type": "markdown",
   "metadata": {},
   "source": [
    "# Random Number Generator in Python"
   ]
  },
  {
   "cell_type": "markdown",
   "metadata": {},
   "source": [
    "#### Random Number between 1 and 100 "
   ]
  },
  {
   "cell_type": "code",
   "execution_count": 2,
   "metadata": {},
   "outputs": [
    {
     "name": "stdout",
     "output_type": "stream",
     "text": [
      "43\n"
     ]
    }
   ],
   "source": [
    "from random import *\n",
    "print (randint(1, 100))"
   ]
  },
  {
   "cell_type": "markdown",
   "metadata": {},
   "source": [
    "#### Assign random number to variable"
   ]
  },
  {
   "cell_type": "code",
   "execution_count": 3,
   "metadata": {},
   "outputs": [
    {
     "name": "stdout",
     "output_type": "stream",
     "text": [
      "5\n"
     ]
    }
   ],
   "source": [
    "a = (randint(1, 100))\n",
    "print(a)"
   ]
  },
  {
   "cell_type": "markdown",
   "metadata": {},
   "source": [
    "#### Assign random number to a list"
   ]
  },
  {
   "cell_type": "code",
   "execution_count": 4,
   "metadata": {},
   "outputs": [
    {
     "name": "stdout",
     "output_type": "stream",
     "text": [
      "[50, 85, 25, 90, 92, 86, 1, 15, 61, 94]\n"
     ]
    }
   ],
   "source": [
    "ranNums = []\n",
    "for x in range(10):\n",
    "    b = (randint(1, 100))\n",
    "    ranNums.append(b)\n",
    "print(ranNums)"
   ]
  },
  {
   "cell_type": "markdown",
   "metadata": {},
   "source": [
    "# Dates"
   ]
  },
  {
   "cell_type": "code",
   "execution_count": 5,
   "metadata": {
    "scrolled": true
   },
   "outputs": [
    {
     "name": "stdout",
     "output_type": "stream",
     "text": [
      "2019-03-12 13:20:34.807830\n",
      "Tuesday, 2019-03-12 13:20 PM\n",
      "Tuesday, 2019-03-12 01:20 PM\n",
      "Current year: 2019\n",
      "Current month: 3\n",
      "Current day: 12\n",
      "Current hour: 13\n",
      "Current minute: 20\n",
      "Current second: 34\n",
      "Current microsecond: 807830\n",
      "Tuesday\n"
     ]
    }
   ],
   "source": [
    "import datetime\n",
    "now = datetime.datetime.now()\n",
    "print (now)\n",
    "print (now.strftime(\"%A, %Y-%m-%d %H:%M %p\"))\n",
    "print (now.strftime(\"%A, %Y-%m-%d %I:%M %p\"))\n",
    "print (\"Current year: \" + str(now.year))\n",
    "print (\"Current month: \" + str(now.month))\n",
    "print (\"Current day: \" + str(now.day))\n",
    "print (\"Current hour: \" + str(now.hour))\n",
    "print (\"Current minute: \" + str(now.minute))\n",
    "print (\"Current second: \" + str(now.second))\n",
    "print (\"Current microsecond: \" + str(now.microsecond))\n",
    "print (now.strftime(\"%A\"))"
   ]
  },
  {
   "cell_type": "code",
   "execution_count": 6,
   "metadata": {},
   "outputs": [
    {
     "data": {
      "application/vnd.jupyter.widget-view+json": {
       "model_id": "8a54052b75eb4bd7aef1d97644226a69",
       "version_major": 2,
       "version_minor": 0
      },
      "text/plain": [
       "Button(description='Click Me!', style=ButtonStyle())"
      ]
     },
     "metadata": {},
     "output_type": "display_data"
    },
    {
     "name": "stdout",
     "output_type": "stream",
     "text": [
      "a\n",
      "a\n",
      "a\n",
      "a\n"
     ]
    }
   ],
   "source": [
    "import ipywidgets as widgets\n",
    "from IPython.display import display\n",
    "previous = widgets.Button(description=\"<\")\n",
    "display(button)\n",
    "\n",
    "def fun(a):\n",
    "    print(a)\n",
    "\n",
    "def on_button_clicked(b):\n",
    "    fun('a')\n",
    "\n",
    "button.on_click(on_button_clicked)"
   ]
  },
  {
   "cell_type": "code",
   "execution_count": null,
   "metadata": {},
   "outputs": [],
   "source": []
  }
 ],
 "metadata": {
  "kernelspec": {
   "display_name": "Python 3",
   "language": "python",
   "name": "python3"
  },
  "language_info": {
   "codemirror_mode": {
    "name": "ipython",
    "version": 3
   },
   "file_extension": ".py",
   "mimetype": "text/x-python",
   "name": "python",
   "nbconvert_exporter": "python",
   "pygments_lexer": "ipython3",
   "version": "3.7.2"
  }
 },
 "nbformat": 4,
 "nbformat_minor": 2
}
